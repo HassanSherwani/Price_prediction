{
 "cells": [
  {
   "cell_type": "markdown",
   "metadata": {},
   "source": [
    "# Data Creation from different sources"
   ]
  },
  {
   "cell_type": "code",
   "execution_count": 33,
   "metadata": {},
   "outputs": [],
   "source": [
    "import psycopg2\n",
    "import pandas as pd\n",
    "from pandas import DataFrame"
   ]
  },
  {
   "cell_type": "markdown",
   "metadata": {},
   "source": [
    "### Article table"
   ]
  },
  {
   "cell_type": "code",
   "execution_count": null,
   "metadata": {},
   "outputs": [],
   "source": [
    "#con = psycopg2.connect(database=\"postgres\", user=\"postgres\",password=\"\", host=\"127.0.0.1\", port=\"5432\")\n",
    "\n",
    "#print(\"Database opened successfully\")"
   ]
  },
  {
   "cell_type": "code",
   "execution_count": 30,
   "metadata": {},
   "outputs": [],
   "source": [
    "cur = con.cursor()\n",
    "cur.execute(\"SELECT * From common.articles\")\n",
    "data_article = cur.fetchall()"
   ]
  },
  {
   "cell_type": "code",
   "execution_count": 32,
   "metadata": {},
   "outputs": [
    {
     "data": {
      "text/plain": [
       "list"
      ]
     },
     "execution_count": 32,
     "metadata": {},
     "output_type": "execute_result"
    }
   ],
   "source": [
    "type(data_article)"
   ]
  },
  {
   "cell_type": "code",
   "execution_count": 34,
   "metadata": {},
   "outputs": [
    {
     "data": {
      "text/plain": [
       "(1645, 4)"
      ]
     },
     "execution_count": 34,
     "metadata": {},
     "output_type": "execute_result"
    }
   ],
   "source": [
    "df_article = DataFrame (data_article,columns=[\"article_id\",\"article_number\",\"price\",\"year\"])\n",
    "df_article.shape"
   ]
  },
  {
   "cell_type": "code",
   "execution_count": 35,
   "metadata": {},
   "outputs": [
    {
     "data": {
      "text/html": [
       "<div>\n",
       "<style scoped>\n",
       "    .dataframe tbody tr th:only-of-type {\n",
       "        vertical-align: middle;\n",
       "    }\n",
       "\n",
       "    .dataframe tbody tr th {\n",
       "        vertical-align: top;\n",
       "    }\n",
       "\n",
       "    .dataframe thead th {\n",
       "        text-align: right;\n",
       "    }\n",
       "</style>\n",
       "<table border=\"1\" class=\"dataframe\">\n",
       "  <thead>\n",
       "    <tr style=\"text-align: right;\">\n",
       "      <th></th>\n",
       "      <th>article_id</th>\n",
       "      <th>article_number</th>\n",
       "      <th>price</th>\n",
       "      <th>year</th>\n",
       "    </tr>\n",
       "  </thead>\n",
       "  <tbody>\n",
       "    <tr>\n",
       "      <th>0</th>\n",
       "      <td>1</td>\n",
       "      <td>272</td>\n",
       "      <td>8.2</td>\n",
       "      <td>2015</td>\n",
       "    </tr>\n",
       "    <tr>\n",
       "      <th>1</th>\n",
       "      <td>2</td>\n",
       "      <td>166</td>\n",
       "      <td>3.9</td>\n",
       "      <td>2015</td>\n",
       "    </tr>\n",
       "    <tr>\n",
       "      <th>2</th>\n",
       "      <td>3</td>\n",
       "      <td>154</td>\n",
       "      <td>3.0</td>\n",
       "      <td>2015</td>\n",
       "    </tr>\n",
       "    <tr>\n",
       "      <th>3</th>\n",
       "      <td>4</td>\n",
       "      <td>232</td>\n",
       "      <td>9.9</td>\n",
       "      <td>2015</td>\n",
       "    </tr>\n",
       "    <tr>\n",
       "      <th>4</th>\n",
       "      <td>5</td>\n",
       "      <td>141</td>\n",
       "      <td>3.4</td>\n",
       "      <td>2015</td>\n",
       "    </tr>\n",
       "  </tbody>\n",
       "</table>\n",
       "</div>"
      ],
      "text/plain": [
       "   article_id  article_number  price  year\n",
       "0           1             272    8.2  2015\n",
       "1           2             166    3.9  2015\n",
       "2           3             154    3.0  2015\n",
       "3           4             232    9.9  2015\n",
       "4           5             141    3.4  2015"
      ]
     },
     "execution_count": 35,
     "metadata": {},
     "output_type": "execute_result"
    }
   ],
   "source": [
    "df_article.head()"
   ]
  },
  {
   "cell_type": "code",
   "execution_count": null,
   "metadata": {},
   "outputs": [],
   "source": [
    "df.year.unique()"
   ]
  },
  {
   "cell_type": "code",
   "execution_count": null,
   "metadata": {},
   "outputs": [],
   "source": [
    "df.article_number.nunique()"
   ]
  },
  {
   "cell_type": "markdown",
   "metadata": {},
   "source": [
    "### customer_meta table"
   ]
  },
  {
   "cell_type": "code",
   "execution_count": 45,
   "metadata": {},
   "outputs": [],
   "source": [
    "cur = con.cursor()\n",
    "cur.execute(\"SELECT * From common.customer_meta\")\n",
    "data_meta = cur.fetchall()"
   ]
  },
  {
   "cell_type": "code",
   "execution_count": 47,
   "metadata": {
    "scrolled": true
   },
   "outputs": [
    {
     "name": "stdout",
     "output_type": "stream",
     "text": [
      "[(1, 'hotel', 48.784744, 9.182595, 160, 3)]\n"
     ]
    }
   ],
   "source": [
    "print(data_meta)"
   ]
  },
  {
   "cell_type": "markdown",
   "metadata": {},
   "source": [
    "### users table"
   ]
  },
  {
   "cell_type": "code",
   "execution_count": 48,
   "metadata": {},
   "outputs": [],
   "source": [
    "cur = con.cursor()\n",
    "cur.execute(\"SELECT * From common.users\")\n",
    "data_users = cur.fetchall()"
   ]
  },
  {
   "cell_type": "code",
   "execution_count": 49,
   "metadata": {},
   "outputs": [
    {
     "name": "stdout",
     "output_type": "stream",
     "text": [
      "[(1, 'Data Engineer'), (2, 'Donal Duck'), (3, 'Luke Skywalker')]\n"
     ]
    }
   ],
   "source": [
    "print(data_users)"
   ]
  },
  {
   "cell_type": "markdown",
   "metadata": {},
   "source": [
    "merge with article number"
   ]
  },
  {
   "cell_type": "markdown",
   "metadata": {},
   "source": [
    "### POS dataset"
   ]
  },
  {
   "cell_type": "code",
   "execution_count": 15,
   "metadata": {},
   "outputs": [
    {
     "data": {
      "text/plain": [
       "(430117, 11)"
      ]
     },
     "execution_count": 15,
     "metadata": {},
     "output_type": "execute_result"
    }
   ],
   "source": [
    "data_2015=pd.read_csv('POS_data_2015.csv', index_col=0)\n",
    "                      \n",
    "data_2015.shape"
   ]
  },
  {
   "cell_type": "code",
   "execution_count": 17,
   "metadata": {},
   "outputs": [
    {
     "data": {
      "text/html": [
       "<div>\n",
       "<style scoped>\n",
       "    .dataframe tbody tr th:only-of-type {\n",
       "        vertical-align: middle;\n",
       "    }\n",
       "\n",
       "    .dataframe tbody tr th {\n",
       "        vertical-align: top;\n",
       "    }\n",
       "\n",
       "    .dataframe thead th {\n",
       "        text-align: right;\n",
       "    }\n",
       "</style>\n",
       "<table border=\"1\" class=\"dataframe\">\n",
       "  <thead>\n",
       "    <tr style=\"text-align: right;\">\n",
       "      <th></th>\n",
       "      <th>kind</th>\n",
       "      <th>invoice_close</th>\n",
       "      <th>invoice_opened</th>\n",
       "      <th>guests</th>\n",
       "      <th>group</th>\n",
       "      <th>invoice</th>\n",
       "      <th>cancellation</th>\n",
       "      <th>ticket</th>\n",
       "      <th>table</th>\n",
       "      <th>time</th>\n",
       "      <th>article_number</th>\n",
       "    </tr>\n",
       "  </thead>\n",
       "  <tbody>\n",
       "    <tr>\n",
       "      <th>0</th>\n",
       "      <td>Pasta</td>\n",
       "      <td>2014-12-31 12:09:00</td>\n",
       "      <td>2014-12-31 11:43:00</td>\n",
       "      <td>1</td>\n",
       "      <td>Speisen</td>\n",
       "      <td>193</td>\n",
       "      <td>0</td>\n",
       "      <td>7103</td>\n",
       "      <td>115/1</td>\n",
       "      <td>2014-12-31 11:43:00</td>\n",
       "      <td>272</td>\n",
       "    </tr>\n",
       "    <tr>\n",
       "      <th>1</th>\n",
       "      <td>Bier</td>\n",
       "      <td>2014-12-31 12:09:00</td>\n",
       "      <td>2014-12-31 11:43:00</td>\n",
       "      <td>1</td>\n",
       "      <td>Getränke</td>\n",
       "      <td>193</td>\n",
       "      <td>0</td>\n",
       "      <td>7103</td>\n",
       "      <td>115/1</td>\n",
       "      <td>2014-12-31 11:43:00</td>\n",
       "      <td>166</td>\n",
       "    </tr>\n",
       "  </tbody>\n",
       "</table>\n",
       "</div>"
      ],
      "text/plain": [
       "    kind        invoice_close       invoice_opened  guests      group  \\\n",
       "0  Pasta  2014-12-31 12:09:00  2014-12-31 11:43:00       1    Speisen   \n",
       "1   Bier  2014-12-31 12:09:00  2014-12-31 11:43:00       1  Getränke    \n",
       "\n",
       "   invoice  cancellation  ticket  table                 time  article_number  \n",
       "0      193             0    7103  115/1  2014-12-31 11:43:00             272  \n",
       "1      193             0    7103  115/1  2014-12-31 11:43:00             166  "
      ]
     },
     "execution_count": 17,
     "metadata": {},
     "output_type": "execute_result"
    }
   ],
   "source": [
    "data_2015.head(2)"
   ]
  },
  {
   "cell_type": "code",
   "execution_count": 70,
   "metadata": {},
   "outputs": [
    {
     "data": {
      "text/plain": [
       "kind              0\n",
       "invoice_close     0\n",
       "invoice_opened    0\n",
       "guests            0\n",
       "group             0\n",
       "invoice           0\n",
       "cancellation      0\n",
       "ticket            0\n",
       "table             0\n",
       "time              0\n",
       "article_number    0\n",
       "dtype: int64"
      ]
     },
     "execution_count": 70,
     "metadata": {},
     "output_type": "execute_result"
    }
   ],
   "source": [
    "data_2015.isnull().sum()"
   ]
  },
  {
   "cell_type": "code",
   "execution_count": 50,
   "metadata": {},
   "outputs": [
    {
     "data": {
      "text/plain": [
       "(419917, 11)"
      ]
     },
     "execution_count": 50,
     "metadata": {},
     "output_type": "execute_result"
    }
   ],
   "source": [
    "data_2016=pd.read_csv('POS_data_2016.csv', index_col=0)\n",
    "data_2016.shape"
   ]
  },
  {
   "cell_type": "code",
   "execution_count": 57,
   "metadata": {},
   "outputs": [
    {
     "data": {
      "text/html": [
       "<div>\n",
       "<style scoped>\n",
       "    .dataframe tbody tr th:only-of-type {\n",
       "        vertical-align: middle;\n",
       "    }\n",
       "\n",
       "    .dataframe tbody tr th {\n",
       "        vertical-align: top;\n",
       "    }\n",
       "\n",
       "    .dataframe thead th {\n",
       "        text-align: right;\n",
       "    }\n",
       "</style>\n",
       "<table border=\"1\" class=\"dataframe\">\n",
       "  <thead>\n",
       "    <tr style=\"text-align: right;\">\n",
       "      <th></th>\n",
       "      <th>kind</th>\n",
       "      <th>invoice_close</th>\n",
       "      <th>invoice_opened</th>\n",
       "      <th>guests</th>\n",
       "      <th>group</th>\n",
       "      <th>invoice</th>\n",
       "      <th>cancellation</th>\n",
       "      <th>ticket</th>\n",
       "      <th>table</th>\n",
       "      <th>time</th>\n",
       "      <th>article_number</th>\n",
       "    </tr>\n",
       "  </thead>\n",
       "  <tbody>\n",
       "    <tr>\n",
       "      <th>0</th>\n",
       "      <td>Pasta</td>\n",
       "      <td>2015-12-31 12:49:00</td>\n",
       "      <td>2015-12-31 11:56:00</td>\n",
       "      <td>5</td>\n",
       "      <td>Speisen</td>\n",
       "      <td>1820</td>\n",
       "      <td>0</td>\n",
       "      <td>7154</td>\n",
       "      <td>113/1</td>\n",
       "      <td>2015-12-31 11:56:00</td>\n",
       "      <td>148</td>\n",
       "    </tr>\n",
       "    <tr>\n",
       "      <th>1</th>\n",
       "      <td>Bier</td>\n",
       "      <td>2015-12-31 12:49:00</td>\n",
       "      <td>2015-12-31 11:56:00</td>\n",
       "      <td>5</td>\n",
       "      <td>Getränke</td>\n",
       "      <td>1820</td>\n",
       "      <td>0</td>\n",
       "      <td>7154</td>\n",
       "      <td>113/1</td>\n",
       "      <td>2015-12-31 11:56:00</td>\n",
       "      <td>156</td>\n",
       "    </tr>\n",
       "  </tbody>\n",
       "</table>\n",
       "</div>"
      ],
      "text/plain": [
       "    kind        invoice_close       invoice_opened  guests      group  \\\n",
       "0  Pasta  2015-12-31 12:49:00  2015-12-31 11:56:00       5    Speisen   \n",
       "1   Bier  2015-12-31 12:49:00  2015-12-31 11:56:00       5  Getränke    \n",
       "\n",
       "   invoice  cancellation  ticket  table                 time  article_number  \n",
       "0     1820             0    7154  113/1  2015-12-31 11:56:00             148  \n",
       "1     1820             0    7154  113/1  2015-12-31 11:56:00             156  "
      ]
     },
     "execution_count": 57,
     "metadata": {},
     "output_type": "execute_result"
    }
   ],
   "source": [
    "data_2016.head(2)"
   ]
  },
  {
   "cell_type": "code",
   "execution_count": 69,
   "metadata": {},
   "outputs": [
    {
     "data": {
      "text/plain": [
       "kind              0\n",
       "invoice_close     0\n",
       "invoice_opened    0\n",
       "guests            0\n",
       "group             0\n",
       "invoice           0\n",
       "cancellation      0\n",
       "ticket            0\n",
       "table             0\n",
       "time              0\n",
       "article_number    0\n",
       "dtype: int64"
      ]
     },
     "execution_count": 69,
     "metadata": {},
     "output_type": "execute_result"
    }
   ],
   "source": [
    "data_2016.isnull().sum()"
   ]
  },
  {
   "cell_type": "code",
   "execution_count": 51,
   "metadata": {},
   "outputs": [
    {
     "data": {
      "text/plain": [
       "(461712, 11)"
      ]
     },
     "execution_count": 51,
     "metadata": {},
     "output_type": "execute_result"
    }
   ],
   "source": [
    "data_2017=pd.read_csv('POS_data_2017.csv', index_col=0)\n",
    "data_2017.shape"
   ]
  },
  {
   "cell_type": "code",
   "execution_count": 74,
   "metadata": {},
   "outputs": [
    {
     "data": {
      "text/html": [
       "<div>\n",
       "<style scoped>\n",
       "    .dataframe tbody tr th:only-of-type {\n",
       "        vertical-align: middle;\n",
       "    }\n",
       "\n",
       "    .dataframe tbody tr th {\n",
       "        vertical-align: top;\n",
       "    }\n",
       "\n",
       "    .dataframe thead th {\n",
       "        text-align: right;\n",
       "    }\n",
       "</style>\n",
       "<table border=\"1\" class=\"dataframe\">\n",
       "  <thead>\n",
       "    <tr style=\"text-align: right;\">\n",
       "      <th></th>\n",
       "      <th>kind</th>\n",
       "      <th>invoice_close</th>\n",
       "      <th>invoice_opened</th>\n",
       "      <th>guests</th>\n",
       "      <th>group</th>\n",
       "      <th>invoice</th>\n",
       "      <th>cancellation</th>\n",
       "      <th>ticket</th>\n",
       "      <th>table</th>\n",
       "      <th>time</th>\n",
       "      <th>article_number</th>\n",
       "    </tr>\n",
       "  </thead>\n",
       "  <tbody>\n",
       "    <tr>\n",
       "      <th>0</th>\n",
       "      <td>Limonaden</td>\n",
       "      <td>2016-12-31 13:00:00</td>\n",
       "      <td>2016-12-31 11:46:00</td>\n",
       "      <td>10</td>\n",
       "      <td>Getränke</td>\n",
       "      <td>1721</td>\n",
       "      <td>0</td>\n",
       "      <td>9235</td>\n",
       "      <td>313/1</td>\n",
       "      <td>2016-12-31 11:46:00</td>\n",
       "      <td>83</td>\n",
       "    </tr>\n",
       "    <tr>\n",
       "      <th>1</th>\n",
       "      <td>Limonaden</td>\n",
       "      <td>2016-12-31 13:00:00</td>\n",
       "      <td>2016-12-31 11:46:00</td>\n",
       "      <td>10</td>\n",
       "      <td>Getränke</td>\n",
       "      <td>1721</td>\n",
       "      <td>0</td>\n",
       "      <td>9235</td>\n",
       "      <td>313/1</td>\n",
       "      <td>2016-12-31 11:46:00</td>\n",
       "      <td>83</td>\n",
       "    </tr>\n",
       "  </tbody>\n",
       "</table>\n",
       "</div>"
      ],
      "text/plain": [
       "        kind        invoice_close       invoice_opened  guests      group  \\\n",
       "0  Limonaden  2016-12-31 13:00:00  2016-12-31 11:46:00      10  Getränke    \n",
       "1  Limonaden  2016-12-31 13:00:00  2016-12-31 11:46:00      10  Getränke    \n",
       "\n",
       "   invoice  cancellation  ticket  table                 time  article_number  \n",
       "0     1721             0    9235  313/1  2016-12-31 11:46:00              83  \n",
       "1     1721             0    9235  313/1  2016-12-31 11:46:00              83  "
      ]
     },
     "execution_count": 74,
     "metadata": {},
     "output_type": "execute_result"
    }
   ],
   "source": [
    "data_2017.head(2)"
   ]
  },
  {
   "cell_type": "code",
   "execution_count": 68,
   "metadata": {},
   "outputs": [
    {
     "data": {
      "text/plain": [
       "kind              0\n",
       "invoice_close     0\n",
       "invoice_opened    0\n",
       "guests            0\n",
       "group             0\n",
       "invoice           0\n",
       "cancellation      0\n",
       "ticket            0\n",
       "table             0\n",
       "time              0\n",
       "article_number    0\n",
       "dtype: int64"
      ]
     },
     "execution_count": 68,
     "metadata": {},
     "output_type": "execute_result"
    }
   ],
   "source": [
    "data_2017.isnull().sum()"
   ]
  },
  {
   "cell_type": "code",
   "execution_count": 52,
   "metadata": {},
   "outputs": [
    {
     "data": {
      "text/plain": [
       "(277171, 11)"
      ]
     },
     "execution_count": 52,
     "metadata": {},
     "output_type": "execute_result"
    }
   ],
   "source": [
    "data_2018=pd.read_csv('POS_data_2018.csv', index_col=0)\n",
    "data_2018.shape"
   ]
  },
  {
   "cell_type": "code",
   "execution_count": 75,
   "metadata": {},
   "outputs": [
    {
     "data": {
      "text/html": [
       "<div>\n",
       "<style scoped>\n",
       "    .dataframe tbody tr th:only-of-type {\n",
       "        vertical-align: middle;\n",
       "    }\n",
       "\n",
       "    .dataframe tbody tr th {\n",
       "        vertical-align: top;\n",
       "    }\n",
       "\n",
       "    .dataframe thead th {\n",
       "        text-align: right;\n",
       "    }\n",
       "</style>\n",
       "<table border=\"1\" class=\"dataframe\">\n",
       "  <thead>\n",
       "    <tr style=\"text-align: right;\">\n",
       "      <th></th>\n",
       "      <th>kind</th>\n",
       "      <th>invoice_closed</th>\n",
       "      <th>invoice_opened</th>\n",
       "      <th>guests</th>\n",
       "      <th>group</th>\n",
       "      <th>invoice</th>\n",
       "      <th>cancellation</th>\n",
       "      <th>ticket</th>\n",
       "      <th>table</th>\n",
       "      <th>time</th>\n",
       "      <th>article_number</th>\n",
       "    </tr>\n",
       "  </thead>\n",
       "  <tbody>\n",
       "    <tr>\n",
       "      <th>0</th>\n",
       "      <td>Pasta</td>\n",
       "      <td>2017-12-31 12:21:00</td>\n",
       "      <td>2017-12-31 11:52:00</td>\n",
       "      <td>2</td>\n",
       "      <td>Essen</td>\n",
       "      <td>3790</td>\n",
       "      <td>0</td>\n",
       "      <td>2289</td>\n",
       "      <td>101/1</td>\n",
       "      <td>2017-12-31 11:52:00</td>\n",
       "      <td>206</td>\n",
       "    </tr>\n",
       "    <tr>\n",
       "      <th>1</th>\n",
       "      <td>Pasta</td>\n",
       "      <td>2017-12-31 12:21:00</td>\n",
       "      <td>2017-12-31 11:52:00</td>\n",
       "      <td>2</td>\n",
       "      <td>Speisen</td>\n",
       "      <td>3790</td>\n",
       "      <td>0</td>\n",
       "      <td>2289</td>\n",
       "      <td>101/1</td>\n",
       "      <td>2017-12-31 11:52:00</td>\n",
       "      <td>213</td>\n",
       "    </tr>\n",
       "  </tbody>\n",
       "</table>\n",
       "</div>"
      ],
      "text/plain": [
       "    kind       invoice_closed       invoice_opened  guests    group  invoice  \\\n",
       "0  Pasta  2017-12-31 12:21:00  2017-12-31 11:52:00       2    Essen     3790   \n",
       "1  Pasta  2017-12-31 12:21:00  2017-12-31 11:52:00       2  Speisen     3790   \n",
       "\n",
       "   cancellation  ticket  table                 time  article_number  \n",
       "0             0    2289  101/1  2017-12-31 11:52:00             206  \n",
       "1             0    2289  101/1  2017-12-31 11:52:00             213  "
      ]
     },
     "execution_count": 75,
     "metadata": {},
     "output_type": "execute_result"
    }
   ],
   "source": [
    "data_2018.head(2)"
   ]
  },
  {
   "cell_type": "code",
   "execution_count": 78,
   "metadata": {},
   "outputs": [],
   "source": [
    "data_2018=data_2018.rename(columns={\"invoice_closed\": \"invoice_close\"})"
   ]
  },
  {
   "cell_type": "code",
   "execution_count": 79,
   "metadata": {},
   "outputs": [
    {
     "data": {
      "text/plain": [
       "kind              0\n",
       "invoice_close     0\n",
       "invoice_opened    0\n",
       "guests            0\n",
       "group             0\n",
       "invoice           0\n",
       "cancellation      0\n",
       "ticket            0\n",
       "table             0\n",
       "time              0\n",
       "article_number    0\n",
       "dtype: int64"
      ]
     },
     "execution_count": 79,
     "metadata": {},
     "output_type": "execute_result"
    }
   ],
   "source": [
    "data_2018.isnull().sum()"
   ]
  },
  {
   "cell_type": "markdown",
   "metadata": {},
   "source": [
    "##### combing all datasets 2015-2018"
   ]
  },
  {
   "cell_type": "code",
   "execution_count": 83,
   "metadata": {},
   "outputs": [
    {
     "data": {
      "text/plain": [
       "(1588917, 11)"
      ]
     },
     "execution_count": 83,
     "metadata": {},
     "output_type": "execute_result"
    }
   ],
   "source": [
    "data_combine=data_2015.append([data_2016, data_2017,data_2018])\n",
    "data_combine.shape"
   ]
  },
  {
   "cell_type": "code",
   "execution_count": 81,
   "metadata": {},
   "outputs": [
    {
     "data": {
      "text/plain": [
       "kind              0\n",
       "invoice_close     0\n",
       "invoice_opened    0\n",
       "guests            0\n",
       "group             0\n",
       "invoice           0\n",
       "cancellation      0\n",
       "ticket            0\n",
       "table             0\n",
       "time              0\n",
       "article_number    0\n",
       "dtype: int64"
      ]
     },
     "execution_count": 81,
     "metadata": {},
     "output_type": "execute_result"
    }
   ],
   "source": [
    "data_combine.isnull().sum()"
   ]
  },
  {
   "cell_type": "code",
   "execution_count": 86,
   "metadata": {},
   "outputs": [
    {
     "data": {
      "text/plain": [
       "Index(['article_id', 'article_number', 'price', 'year'], dtype='object')"
      ]
     },
     "execution_count": 86,
     "metadata": {},
     "output_type": "execute_result"
    }
   ],
   "source": [
    "df_article.columns"
   ]
  },
  {
   "cell_type": "markdown",
   "metadata": {},
   "source": [
    "##### chooseing important features only"
   ]
  },
  {
   "cell_type": "code",
   "execution_count": 87,
   "metadata": {},
   "outputs": [],
   "source": [
    "df_art=df_article[[\"article_number\", \"price\",\"year\"]]"
   ]
  },
  {
   "cell_type": "code",
   "execution_count": 88,
   "metadata": {},
   "outputs": [],
   "source": [
    "data_select=data_combine[[\"article_number\",\"time\",\"guests\"]]"
   ]
  },
  {
   "cell_type": "markdown",
   "metadata": {},
   "source": [
    "#### Merge with article_number"
   ]
  },
  {
   "cell_type": "code",
   "execution_count": 91,
   "metadata": {},
   "outputs": [],
   "source": [
    "df_merge=pd.merge(data_select, df_art, on='article_number')"
   ]
  },
  {
   "cell_type": "code",
   "execution_count": 92,
   "metadata": {},
   "outputs": [
    {
     "data": {
      "text/plain": [
       "article_number    0\n",
       "time              0\n",
       "guests            0\n",
       "price             0\n",
       "year              0\n",
       "dtype: int64"
      ]
     },
     "execution_count": 92,
     "metadata": {},
     "output_type": "execute_result"
    }
   ],
   "source": [
    "df_merge.isnull().sum()"
   ]
  },
  {
   "cell_type": "code",
   "execution_count": 93,
   "metadata": {},
   "outputs": [
    {
     "data": {
      "text/html": [
       "<div>\n",
       "<style scoped>\n",
       "    .dataframe tbody tr th:only-of-type {\n",
       "        vertical-align: middle;\n",
       "    }\n",
       "\n",
       "    .dataframe tbody tr th {\n",
       "        vertical-align: top;\n",
       "    }\n",
       "\n",
       "    .dataframe thead th {\n",
       "        text-align: right;\n",
       "    }\n",
       "</style>\n",
       "<table border=\"1\" class=\"dataframe\">\n",
       "  <thead>\n",
       "    <tr style=\"text-align: right;\">\n",
       "      <th></th>\n",
       "      <th>article_number</th>\n",
       "      <th>time</th>\n",
       "      <th>guests</th>\n",
       "      <th>price</th>\n",
       "      <th>year</th>\n",
       "    </tr>\n",
       "  </thead>\n",
       "  <tbody>\n",
       "    <tr>\n",
       "      <th>0</th>\n",
       "      <td>272</td>\n",
       "      <td>2014-12-31 11:43:00</td>\n",
       "      <td>1</td>\n",
       "      <td>8.2</td>\n",
       "      <td>2015</td>\n",
       "    </tr>\n",
       "    <tr>\n",
       "      <th>1</th>\n",
       "      <td>272</td>\n",
       "      <td>2014-12-31 11:43:00</td>\n",
       "      <td>1</td>\n",
       "      <td>11.9</td>\n",
       "      <td>2016</td>\n",
       "    </tr>\n",
       "  </tbody>\n",
       "</table>\n",
       "</div>"
      ],
      "text/plain": [
       "   article_number                 time  guests  price  year\n",
       "0             272  2014-12-31 11:43:00       1    8.2  2015\n",
       "1             272  2014-12-31 11:43:00       1   11.9  2016"
      ]
     },
     "execution_count": 93,
     "metadata": {},
     "output_type": "execute_result"
    }
   ],
   "source": [
    "df_merge.head(2)"
   ]
  },
  {
   "cell_type": "code",
   "execution_count": 94,
   "metadata": {},
   "outputs": [
    {
     "data": {
      "text/plain": [
       "(6164086, 5)"
      ]
     },
     "execution_count": 94,
     "metadata": {},
     "output_type": "execute_result"
    }
   ],
   "source": [
    "df_merge.shape"
   ]
  },
  {
   "cell_type": "markdown",
   "metadata": {},
   "source": [
    "For our analysis and predictive model, we shall need time , guests and price"
   ]
  },
  {
   "cell_type": "code",
   "execution_count": 99,
   "metadata": {},
   "outputs": [],
   "source": [
    "df=df_merge[[\"time\",\"guests\",\"price\"]]"
   ]
  },
  {
   "cell_type": "code",
   "execution_count": 100,
   "metadata": {},
   "outputs": [],
   "source": [
    "df.to_csv('data.csv',index=False)"
   ]
  },
  {
   "cell_type": "code",
   "execution_count": 104,
   "metadata": {},
   "outputs": [
    {
     "data": {
      "text/plain": [
       "(6164086, 3)"
      ]
     },
     "execution_count": 104,
     "metadata": {},
     "output_type": "execute_result"
    }
   ],
   "source": [
    "df_check=pd.read_csv('data.csv')\n",
    "df_check.shape"
   ]
  },
  {
   "cell_type": "code",
   "execution_count": 105,
   "metadata": {},
   "outputs": [
    {
     "data": {
      "text/html": [
       "<div>\n",
       "<style scoped>\n",
       "    .dataframe tbody tr th:only-of-type {\n",
       "        vertical-align: middle;\n",
       "    }\n",
       "\n",
       "    .dataframe tbody tr th {\n",
       "        vertical-align: top;\n",
       "    }\n",
       "\n",
       "    .dataframe thead th {\n",
       "        text-align: right;\n",
       "    }\n",
       "</style>\n",
       "<table border=\"1\" class=\"dataframe\">\n",
       "  <thead>\n",
       "    <tr style=\"text-align: right;\">\n",
       "      <th></th>\n",
       "      <th>time</th>\n",
       "      <th>guests</th>\n",
       "      <th>price</th>\n",
       "    </tr>\n",
       "  </thead>\n",
       "  <tbody>\n",
       "    <tr>\n",
       "      <th>0</th>\n",
       "      <td>2014-12-31 11:43:00</td>\n",
       "      <td>1</td>\n",
       "      <td>8.2</td>\n",
       "    </tr>\n",
       "    <tr>\n",
       "      <th>1</th>\n",
       "      <td>2014-12-31 11:43:00</td>\n",
       "      <td>1</td>\n",
       "      <td>11.9</td>\n",
       "    </tr>\n",
       "  </tbody>\n",
       "</table>\n",
       "</div>"
      ],
      "text/plain": [
       "                  time  guests  price\n",
       "0  2014-12-31 11:43:00       1    8.2\n",
       "1  2014-12-31 11:43:00       1   11.9"
      ]
     },
     "execution_count": 105,
     "metadata": {},
     "output_type": "execute_result"
    }
   ],
   "source": [
    "df_check.head(2)"
   ]
  },
  {
   "cell_type": "code",
   "execution_count": 106,
   "metadata": {},
   "outputs": [
    {
     "data": {
      "text/plain": [
       "time      0\n",
       "guests    0\n",
       "price     0\n",
       "dtype: int64"
      ]
     },
     "execution_count": 106,
     "metadata": {},
     "output_type": "execute_result"
    }
   ],
   "source": [
    "df_check.isnull().sum()"
   ]
  }
 ],
 "metadata": {
  "kernelspec": {
   "display_name": "Python 3.7 (tensorflow)",
   "language": "python",
   "name": "tensorflow"
  },
  "language_info": {
   "codemirror_mode": {
    "name": "ipython",
    "version": 3
   },
   "file_extension": ".py",
   "mimetype": "text/x-python",
   "name": "python",
   "nbconvert_exporter": "python",
   "pygments_lexer": "ipython3",
   "version": "3.7.7"
  }
 },
 "nbformat": 4,
 "nbformat_minor": 4
}
